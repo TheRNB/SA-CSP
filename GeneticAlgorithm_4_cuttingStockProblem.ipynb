{
 "cells": [
  {
   "attachments": {},
   "cell_type": "markdown",
   "metadata": {},
   "source": [
    "# CHROMOSOME\n",
    "\n",
    "We must first come up with a way to represent chormosomes. We define an array with the same length as the number of ordered pieces, and assign each piece the index of its stock. Meaning that if two pieces i and j are to be cut from stock k, then in indices i and j of the array there is value k."
   ]
  },
  {
   "attachments": {},
   "cell_type": "markdown",
   "metadata": {},
   "source": [
    "# FITNESS\n",
    "\n",
    "The fitness of a solution is based on the number of different stocks it has used to cut the ordered pieces. So that a solution with a lower number of stocks used, becomes a \"more fit\" solution as the problem requires."
   ]
  },
  {
   "cell_type": "code",
   "execution_count": 83,
   "metadata": {},
   "outputs": [],
   "source": [
    "def objective_function(solution):\n",
    "    \"\"\"fitness function\n",
    "\n",
    "    Args:\n",
    "        solution (list): a possible solution to the problem\n",
    "\n",
    "    Returns:\n",
    "        int: the number of stocks that solution uses\n",
    "    \"\"\"\n",
    "    return len(set(solution))"
   ]
  },
  {
   "attachments": {},
   "cell_type": "markdown",
   "metadata": {},
   "source": [
    "# CONTROL PARAMETERS\n",
    "\n",
    "We must now define the problem specific control variables of the algorithm"
   ]
  },
  {
   "cell_type": "code",
   "execution_count": 84,
   "metadata": {},
   "outputs": [
    {
     "data": {
      "text/plain": [
       "<function __main__.initialize()>"
      ]
     },
     "execution_count": 84,
     "metadata": {},
     "output_type": "execute_result"
    }
   ],
   "source": [
    "best_solution_mem = []\n",
    "temperature = 90\n",
    "cooling_rate = 0.001\n",
    "size_of_stock = 0\n",
    "piece_size = []\n",
    "def initialize():\n",
    "    global temperature, cooling_rate\n",
    "    temperature = 100\n",
    "    cooling_rate = 0.01\n",
    "    return\n",
    "\n",
    "initialize"
   ]
  },
  {
   "attachments": {},
   "cell_type": "markdown",
   "metadata": {},
   "source": [
    "# INITIAL SOLUTION\n",
    "\n",
    "We must also come up with a way to generate new solutions"
   ]
  },
  {
   "cell_type": "code",
   "execution_count": 85,
   "metadata": {},
   "outputs": [],
   "source": [
    "import random\n",
    "best_solution_mem = []\n",
    "\n",
    "def generate_initial_solution():\n",
    "    \"\"\"generate a random initial solution to the problem\n",
    "\n",
    "    Returns:\n",
    "        list: a solution\n",
    "    \"\"\"\n",
    "    if best_solution_mem != []:\n",
    "        #print(best_solution_mem)\n",
    "        return best_solution_mem\n",
    "    solution = [-1 for _ in range(len(piece_size))]\n",
    "    stock_index = 0\n",
    "    stock_cuts = size_of_stock\n",
    "    while -1 in solution:\n",
    "        piece_index = random.choice(range(len(piece_size)))\n",
    "        if solution[piece_index] == -1:\n",
    "            if stock_cuts - piece_size[piece_index] >= 0:\n",
    "                solution[piece_index] = stock_index\n",
    "                stock_cuts -= piece_size[piece_index]\n",
    "            else:\n",
    "                stock_index += 1\n",
    "                solution[piece_index] = stock_index\n",
    "                stock_cuts = size_of_stock - piece_size[piece_index]\n",
    "    #print(solution)\n",
    "    return solution\n"
   ]
  },
  {
   "attachments": {},
   "cell_type": "markdown",
   "metadata": {},
   "source": [
    "# NEIGHBOR\n",
    "\n",
    "Now we should come up with a way to generate neighboring solutions to a specific solution. We can start by checking how much of each stuck is cut, then choose a random piece and a random stock that has enough waste material to fit that piece and assign the piece to that stock. We can also choose a completely new stock to have the new piece cut from there, but that is not beneficial in our case since we want to minimize the number of used stocks."
   ]
  },
  {
   "cell_type": "code",
   "execution_count": 86,
   "metadata": {},
   "outputs": [],
   "source": [
    "def generate_neighbor(solution):\n",
    "    \"\"\"Generates a neighboring solution based on an input solution and altering one its stock allocations\n",
    "\n",
    "    Args:\n",
    "        solution (list): the input solution\n",
    "\n",
    "    Returns:\n",
    "        list: a neighboring solution to the input solution\n",
    "    \"\"\"\n",
    "    neighbor = solution.copy()\n",
    "    stock_usage = [0 for _ in range(max(neighbor)+1)]\n",
    "    for i in range(len(neighbor)):\n",
    "        stock_usage[neighbor[i]] += piece_size[i]\n",
    "    index = random.randint(0, len(neighbor) - 1)\n",
    "    stock_usage[neighbor[index]] -= piece_size[index]\n",
    "    new_stock_index = random.choice(range(max(neighbor)+1))\n",
    "    while stock_usage[new_stock_index] + piece_size[index] > size_of_stock:# or new_stock_index == neighbor[index]:\n",
    "        new_stock_index = random.choice(range(max(neighbor)+1))\n",
    "    neighbor[index] = new_stock_index    \n",
    "    return neighbor\n"
   ]
  },
  {
   "attachments": {},
   "cell_type": "markdown",
   "metadata": {},
   "source": [
    "# ACCEPTANCE PROBABLITY\n",
    "\n",
    "We should also come up with a function that defines the acceptance probablity of a neighbor as defined in the algorithm."
   ]
  },
  {
   "cell_type": "code",
   "execution_count": 87,
   "metadata": {},
   "outputs": [],
   "source": [
    "import math\n",
    "\n",
    "def acceptance_probability(old_cost, new_cost, temperature):\n",
    "    \"\"\"calculates the accpetance probablity of a new best solution based on fitness and temperature\n",
    "\n",
    "    Args:\n",
    "        old_cost (int): the fitness value of the old best solution\n",
    "        new_cost (int): the fitness value of the new best solution\n",
    "        temperature (int): the value of current temperature in the algorithm\n",
    "\n",
    "    Returns:\n",
    "        float: the maximum acceptance probablity value (in range (0,1])\n",
    "    \"\"\"\n",
    "    if new_cost < old_cost:\n",
    "        return 1.0\n",
    "    else:\n",
    "        return math.exp((old_cost - new_cost) / temperature)"
   ]
  },
  {
   "attachments": {},
   "cell_type": "markdown",
   "metadata": {},
   "source": [
    "# INFERENCE\n",
    "\n",
    "We should now run the algorithm."
   ]
  },
  {
   "cell_type": "code",
   "execution_count": 88,
   "metadata": {},
   "outputs": [
    {
     "name": "stdout",
     "output_type": "stream",
     "text": [
      "259\n",
      "258\n",
      "257\n",
      "256\n",
      "255\n",
      "254\n",
      "253\n",
      "252\n",
      "251\n",
      "250\n",
      "249\n",
      "248\n",
      "247\n",
      "246\n",
      "245\n"
     ]
    },
    {
     "ename": "KeyboardInterrupt",
     "evalue": "",
     "output_type": "error",
     "traceback": [
      "\u001b[0;31m---------------------------------------------------------------------------\u001b[0m",
      "\u001b[0;31mKeyboardInterrupt\u001b[0m                         Traceback (most recent call last)",
      "Cell \u001b[0;32mIn[88], line 16\u001b[0m\n\u001b[1;32m     13\u001b[0m \u001b[39m#print(\"done done\")\u001b[39;00m\n\u001b[1;32m     15\u001b[0m \u001b[39mwhile\u001b[39;00m temperature \u001b[39m>\u001b[39m \u001b[39m1\u001b[39m:\n\u001b[0;32m---> 16\u001b[0m     neighbor_solution \u001b[39m=\u001b[39m generate_neighbor(current_solution)\n\u001b[1;32m     17\u001b[0m     current_cost \u001b[39m=\u001b[39m objective_function(current_solution)\n\u001b[1;32m     18\u001b[0m     neighbor_cost \u001b[39m=\u001b[39m objective_function(neighbor_solution)\n",
      "Cell \u001b[0;32mIn[86], line 13\u001b[0m, in \u001b[0;36mgenerate_neighbor\u001b[0;34m(solution)\u001b[0m\n\u001b[1;32m     11\u001b[0m stock_usage \u001b[39m=\u001b[39m [\u001b[39m0\u001b[39m \u001b[39mfor\u001b[39;00m _ \u001b[39min\u001b[39;00m \u001b[39mrange\u001b[39m(\u001b[39mmax\u001b[39m(neighbor)\u001b[39m+\u001b[39m\u001b[39m1\u001b[39m)]\n\u001b[1;32m     12\u001b[0m \u001b[39mfor\u001b[39;00m i \u001b[39min\u001b[39;00m \u001b[39mrange\u001b[39m(\u001b[39mlen\u001b[39m(neighbor)):\n\u001b[0;32m---> 13\u001b[0m     stock_usage[neighbor[i]] \u001b[39m+\u001b[39m\u001b[39m=\u001b[39m piece_size[i]\n\u001b[1;32m     14\u001b[0m index \u001b[39m=\u001b[39m random\u001b[39m.\u001b[39mrandint(\u001b[39m0\u001b[39m, \u001b[39mlen\u001b[39m(neighbor) \u001b[39m-\u001b[39m \u001b[39m1\u001b[39m)\n\u001b[1;32m     15\u001b[0m stock_usage[neighbor[index]] \u001b[39m-\u001b[39m\u001b[39m=\u001b[39m piece_size[index]\n",
      "\u001b[0;31mKeyboardInterrupt\u001b[0m: "
     ]
    }
   ],
   "source": [
    "size_of_stock = 100\n",
    "piece_size = [22, 7, 5, 3, 28, 2, 14, 5, 32, 29, 74, 24, 67, 3, 35, 1, 6, 66, 30, 70, 65, 1, 12, 47, 33, 36, 99, 54, 4, 10, 18, 11, 5, 23, 48, 30, 44, 5, 51, 13, 13, 13, 2, 11, 60, 22, 5, 13, 10, 4, 4, 51, 50, 6, 61, 28, 15, 3, 68, 3, 69, 57, 62, 6, 9, 9, 3, 78, 22, 2, 6, 13, 20, 71, 15, 10, 12, 46, 27, 59, 87, 10, 27, 54, 61, 23, 27, 5, 8, 7, 3, 11, 36, 9, 20, 4, 66, 2, 16, 3, 34, 6, 3, 37, 36, 1, 15, 6, 1, 24, 29, 18, 5, 2, 46, 2, 46, 9, 73, 31, 33, 17, 29, 9, 51, 21, 43, 2, 18, 18, 5, 59, 91, 10, 8, 33, 14, 54, 19, 7, 46, 18, 32, 45, 17, 13, 37, 15, 6, 79, 58, 50, 53, 27, 67, 10, 25, 2, 4, 23, 73, 26, 7, 1, 43, 4, 34, 22, 52, 39, 21, 47, 11, 16, 4, 7, 58, 22, 6, 20, 5, 33, 63, 38, 6, 5, 9, 45, 1, 84, 5, 59, 4, 15, 34, 3, 20, 19, 65, 73, 8, 9, 3, 8, 15, 12, 26, 14, 7, 39, 11, 20, 12, 47, 2, 32, 2, 16, 37, 32, 8, 10, 5, 63, 35, 34, 8, 20, 9, 2, 34, 56, 26, 21, 44, 33, 14, 3, 12, 18, 22, 20, 8, 17, 55, 22, 13, 7, 18, 38, 5, 8, 44, 47, 7, 7, 15, 9, 10, 5, 4, 1, 20, 25, 27, 10, 8, 5, 1, 5, 8, 52, 6, 9, 51, 3, 2, 3, 13, 26, 4, 68, 4, 1, 38, 50, 16, 15, 57, 20, 37, 10, 16, 7, 12, 22, 12, 59, 15, 31, 12, 10, 17, 38, 5, 15, 4, 6, 17, 14, 22, 24, 20, 46, 25, 2, 81, 5, 1, 6, 18, 10, 56, 30, 95, 40, 16, 34, 7, 7, 1, 41, 81, 43, 7, 6, 50, 6, 62, 60, 19, 9, 25, 27, 24, 6, 80, 4, 4, 36, 34, 11, 8, 20, 45, 5, 61, 58, 2, 37, 33, 37, 6, 30, 2, 23, 6, 13, 11, 98, 33, 14, 25, 20, 56, 4, 6, 23, 75, 26, 51, 2, 24, 11, 10, 5, 24, 26, 22, 74, 74, 3, 15, 56, 20, 4, 6, 6, 6, 10, 1, 7, 3, 4, 9, 35, 2, 80, 6, 58, 47, 21, 44, 5, 1, 8, 4, 56, 41, 5, 46, 92, 14, 7, 65, 9, 36, 38, 25, 7, 50, 7, 21, 2, 22, 39, 89, 32, 8, 12, 67, 4, 20, 1, 36, 10, 6, 2, 3, 90, 7, 19, 59, 6, 3, 2, 7, 47, 34, 16, 26, 1, 27, 34, 7, 27, 4, 5, 34, 16, 18, 71, 14, 2, 31, 20, 16, 11, 1, 6, 14, 4, 14, 15, 3, 61, 21, 30, 3, 20, 17, 6, 29, 31, 15, 12, 6, 8, 7, 11, 4, 2, 7, 18, 67, 23, 11, 23, 28, 13, 5, 13, 42, 1, 54, 5, 16, 44, 32, 76, 5, 17, 47, 92, 6, 29, 7, 47, 25, 2, 12, 27, 6, 4, 1, 14, 21, 6, 2, 33, 19, 44, 5, 9, 11, 14, 93, 4, 7, 2, 24, 24, 1, 12, 43, 5, 22, 3, 16, 4, 16, 9, 5, 32, 73, 31, 7, 28, 52, 20, 54, 52, 11, 15, 24, 5, 4, 2, 26, 14, 18, 5, 4, 4, 1, 20, 8, 14, 21, 34, 48, 21, 27, 11, 27, 16, 3, 12, 26, 14, 13, 4, 9, 18, 3, 47, 23, 17, 1, 51, 2, 5, 3, 38, 38, 6, 16, 13, 45, 25, 43, 8, 16, 74, 22, 40, 98, 1, 51, 88, 17, 35, 71, 5, 15, 7, 7, 10, 46, 3, 18, 18, 4, 5, 72, 10, 4, 6, 1, 12, 6, 32, 19, 10, 6, 3, 89, 7, 37, 3, 1, 44, 13, 5, 14, 2, 3, 47, 9, 21, 2, 13, 17, 2, 4, 38, 5, 37, 5, 36, 9, 5, 38, 15, 26, 29, 39, 37, 48, 9, 31, 20, 33, 48, 23, 51, 18, 1, 21, 30, 89, 14, 9, 80, 30, 11, 3, 68, 2, 72, 31, 24, 56, 28, 2, 16, 44, 21, 10, 52, 13, 9, 12, 3, 9, 3, 3, 2, 5, 3, 4, 39, 10, 18, 36, 20, 8, 43, 1, 5, 12, 15, 7, 8, 26, 1, 19, 2, 1, 21, 8, 22, 15, 66, 5, 40, 8, 3, 46, 3, 66, 19, 4, 47, 19, 22, 25, 91, 24, 2, 3, 8, 2, 2, 30, 1, 2, 2, 8, 2, 18, 4, 14, 13, 4, 5, 93, 19, 6, 18, 12, 5, 30, 21, 6, 35, 24, 2, 3, 19, 6, 21, 18, 21, 82, 26, 6, 54, 2, 24, 56, 28, 4, 20, 79, 35, 7, 6, 87, 3, 55, 12, 7, 69, 67, 8, 18, 16, 47, 5, 65, 28, 9, 32, 8, 4, 1, 13, 33, 17, 5, 6, 31, 2, 8, 1, 4, 24, 21, 9, 15, 15, 74, 1, 78, 32, 3, 6, 5, 12, 12, 13, 31, 4, 80, 6, 20, 62, 18, 13, 9, 14, 3, 14, 9, 16, 16, 2, 1, 10, 33, 1, 16, 4, 3, 5, 35, 4, 72, 43, 10, 18, 8, 68, 10, 23, 7, 3, 13, 4]\n",
    "piece_size.sort()\n",
    "\n",
    "best_solution_mem = []\n",
    "best_solution = generate_initial_solution()\n",
    "while(len(set(best_solution)) > 235):\n",
    "    initialize()\n",
    "    #print(len(set(best_solution)))\n",
    "    current_solution = generate_initial_solution()\n",
    "    #print(\"done\")\n",
    "    best_solution = current_solution.copy()\n",
    "    #print(\"done done\")\n",
    "\n",
    "    while temperature > 1:\n",
    "        neighbor_solution = generate_neighbor(current_solution)\n",
    "        current_cost = objective_function(current_solution)\n",
    "        neighbor_cost = objective_function(neighbor_solution)\n",
    "        #print(current_cost, neighbor_cost)\n",
    "\n",
    "        if acceptance_probability(current_cost, neighbor_cost, temperature) > random.random():\n",
    "            current_solution = neighbor_solution.copy()\n",
    "\n",
    "        if objective_function(current_solution) < objective_function(best_solution):\n",
    "            best_solution = current_solution.copy()\n",
    "            print(len(set(best_solution)))\n",
    "\n",
    "        temperature *= 1 - cooling_rate\n",
    "    \n",
    "    best_solution_mem = best_solution.copy()\n",
    "\n",
    "stocks_used = sorted(set(best_solution))\n",
    "pieces_per_stock = [[] for _ in range(len(stocks_used))]\n",
    "#best_solution_mem = best_solution.copy()\n",
    "\n",
    "for i, piece in enumerate(piece_size):\n",
    "    stock_index = best_solution[i]\n",
    "    pieces_per_stock[stocks_used.index(stock_index)].append(piece)\n",
    "\n",
    "\n",
    "\n",
    "print(len(stocks_used))\n",
    "print(f\"The minimum number of stock needed is {len(stocks_used)}\")\n",
    "for i in range(len(stocks_used)):\n",
    "    print(f\"Stock {i+1}: {pieces_per_stock[i]}\")\n",
    "\n",
    "while(len(set(best_solution)) >= 235):\n",
    "    initialize()\n",
    "    #print(len(set(best_solution)))\n",
    "    current_solution = generate_initial_solution()\n",
    "    #print(\"done\")\n",
    "    best_solution = current_solution.copy()\n",
    "    #print(\"done done\")\n",
    "\n",
    "    while temperature > 1:\n",
    "        neighbor_solution = generate_neighbor(current_solution)\n",
    "        current_cost = objective_function(current_solution)\n",
    "        neighbor_cost = objective_function(neighbor_solution)\n",
    "        #print(current_cost, neighbor_cost)\n",
    "\n",
    "        if acceptance_probability(current_cost, neighbor_cost, temperature) > random.random():\n",
    "            current_solution = neighbor_solution.copy()\n",
    "\n",
    "        if objective_function(current_solution) < objective_function(best_solution):\n",
    "            best_solution = current_solution.copy()\n",
    "            print(len(set(best_solution)))\n",
    "\n",
    "        temperature *= 1 - cooling_rate\n",
    "    \n",
    "    best_solution_mem = best_solution.copy()\n",
    "\n",
    "stocks_used = sorted(set(best_solution))\n",
    "pieces_per_stock = [[] for _ in range(len(stocks_used))]\n",
    "#best_solution_mem = best_solution.copy()\n",
    "\n",
    "for i, piece in enumerate(piece_size):\n",
    "    stock_index = best_solution[i]\n",
    "    pieces_per_stock[stocks_used.index(stock_index)].append(piece)\n",
    "\n",
    "\n",
    "\n",
    "print(len(stocks_used))\n",
    "print(f\"The minimum number of stock needed is {len(stocks_used)}\")\n",
    "for i in range(len(stocks_used)):\n",
    "    print(f\"Stock {i+1}: {pieces_per_stock[i]}\")"
   ]
  }
 ],
 "metadata": {
  "kernelspec": {
   "display_name": "Python 3",
   "language": "python",
   "name": "python3"
  },
  "language_info": {
   "codemirror_mode": {
    "name": "ipython",
    "version": 3
   },
   "file_extension": ".py",
   "mimetype": "text/x-python",
   "name": "python",
   "nbconvert_exporter": "python",
   "pygments_lexer": "ipython3",
   "version": "3.11.3"
  },
  "orig_nbformat": 4
 },
 "nbformat": 4,
 "nbformat_minor": 2
}
